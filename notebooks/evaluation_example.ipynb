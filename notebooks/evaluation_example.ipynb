version https://git-lfs.github.com/spec/v1
oid sha256:96519a08901e4e01a3059cba90726f68ac901beef8d744acf6ab9bea34b0d048
size 2935249

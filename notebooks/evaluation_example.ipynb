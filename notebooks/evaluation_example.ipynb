version https://git-lfs.github.com/spec/v1
oid sha256:44cca478f1f6fe4fe799c95cef1e8b3ecf210d9a4639294e9ce510c34280cbaa
size 5045

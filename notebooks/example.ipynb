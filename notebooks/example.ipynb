version https://git-lfs.github.com/spec/v1
oid sha256:77e979c4421650ba646719286f4a146f0655daa3a82ef4a033206e9f13d2068c
size 8020531

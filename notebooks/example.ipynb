version https://git-lfs.github.com/spec/v1
oid sha256:c3a2fb0019e19592689f01d699c1f6f818cf686ca1cdcc5000f8b8c267e52269
size 19503

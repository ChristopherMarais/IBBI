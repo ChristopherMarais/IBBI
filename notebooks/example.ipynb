version https://git-lfs.github.com/spec/v1
oid sha256:f80a72dcddf99eb4df954181f1fc3fdae88627f9f48acc1effe7f8c7fe920808
size 8024405
